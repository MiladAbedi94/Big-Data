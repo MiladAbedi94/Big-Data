{
 "cells": [
  {
   "cell_type": "code",
   "execution_count": null,
   "metadata": {},
   "outputs": [],
   "source": [
    "import os\n",
    "import pandas as pd\n",
    "import pyspark\n",
    "conf = pyspark.SparkConf().setMaster(\"local[*]\").setAppName(\"HMP\")\n",
    "sc = pyspark.SparkContext(conf = conf)\n",
    "spark=pyspark.sql.SparkSession(sc)"
   ]
  },
  {
   "cell_type": "markdown",
   "metadata": {},
   "source": [
    "If the data folder does not exist, clone it:"
   ]
  },
  {
   "cell_type": "code",
   "execution_count": null,
   "metadata": {},
   "outputs": [],
   "source": [
    "%%bash\n",
    "if [ ! -d \"DataSet\" ] ; then \n",
    "    git clone \"https://github.com/wchill/HMP_Dataset.git\" \"DataSet\" \n",
    "fi"
   ]
  },
  {
   "cell_type": "code",
   "execution_count": null,
   "metadata": {},
   "outputs": [],
   "source": [
    "def Data_File_Path_Iterator():\n",
    "    Data_Folders_List=[x for x in os.listdir(\"DataSet\") if os.path.isdir(\"DataSet/\"+x) and x[0]!='.']\n",
    "    for Class in Data_Folders_List:\n",
    "        for file_name in os.listdir(\"DataSet/\"+Class):\n",
    "            file_path=\"DataSet/\"+Class+\"/\"+file_name\n",
    "            yield file_path,Class"
   ]
  },
  {
   "cell_type": "code",
   "execution_count": null,
   "metadata": {},
   "outputs": [],
   "source": [
    "from pyspark.sql.types import StructField,StructType,IntegerType\n",
    "Schema=StructType([StructField(name=\"X\",dataType=IntegerType(),nullable=True),\n",
    "                   StructField(name=\"Y\",dataType=IntegerType(),nullable=True),\n",
    "                   StructField(name=\"Z\",dataType=IntegerType(),nullable=True)])\n"
   ]
  },
  {
   "cell_type": "markdown",
   "metadata": {},
   "source": [
    "Data_Frame.cache() will force the spark engine to keep the data frame in memory"
   ]
  },
  {
   "cell_type": "code",
   "execution_count": null,
   "metadata": {},
   "outputs": [],
   "source": [
    "from pyspark.sql.functions  import lit\n",
    "Files=Data_File_Path_Iterator()\n",
    "Data_Frame=None\n",
    "try:\n",
    "    while True:\n",
    "        file_path,Class=next(Files)\n",
    "        Temp_DF=spark.read.option(\"delimiter\", \" \").csv(file_path,schema=Schema).withColumn('Class',lit(Class))\n",
    "        if Data_Frame:\n",
    "            Data_Frame=Data_Frame.union(Temp_DF)\n",
    "        else:\n",
    "            Data_Frame=Temp_DF\n",
    "except StopIteration:\n",
    "    pass\n",
    "Data_Frame.registerTempTable(\"HMP\")\n",
    "Data_Frame.cache()"
   ]
  },
  {
   "cell_type": "code",
   "execution_count": null,
   "metadata": {},
   "outputs": [],
   "source": [
    "from pyspark import ml as ML\n",
    "Class_Label=ML.feature.StringIndexer(inputCol=\"Class\",outputCol=\"Label\")\n",
    "Class_One_Hot_Label=ML.feature.OneHotEncoder(inputCol=\"Label\",outputCol=\"One_Hot_Label\")\n",
    "XYZ_t0_Vector=ML.feature.VectorAssembler(inputCols=[\"X\",\"Y\",\"Z\"],outputCol=\"Input_Vector_Unprocessed\")\n",
    "Normalized_Input=ML.feature.Normalizer(inputCol=\"Input_Vector_Unprocessed\",outputCol=\"Input_Vector_Normalized\",p=1.0)\n",
    "PipeLine=ML.Pipeline(stages=[Class_Label,Class_One_Hot_Label,XYZ_t0_Vector,Normalized_Input]).fit(Data_Frame)\n",
    "Data_Frame=PipeLine.transform(Data_Frame)"
   ]
  },
  {
   "cell_type": "code",
   "execution_count": null,
   "metadata": {},
   "outputs": [],
   "source": [
    "Data_Frame.write.parquet(\"DataSet.parquet\")"
   ]
  }
 ],
 "metadata": {
  "kernelspec": {
   "display_name": "Python 3",
   "language": "python",
   "name": "python3"
  },
  "language_info": {
   "codemirror_mode": {
    "name": "ipython",
    "version": 3
   },
   "file_extension": ".py",
   "mimetype": "text/x-python",
   "name": "python",
   "nbconvert_exporter": "python",
   "pygments_lexer": "ipython3",
   "version": "3.6.8"
  }
 },
 "nbformat": 4,
 "nbformat_minor": 2
}
