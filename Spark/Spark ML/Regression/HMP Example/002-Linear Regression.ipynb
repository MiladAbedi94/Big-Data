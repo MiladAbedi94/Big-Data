{
 "cells": [
  {
   "cell_type": "code",
   "execution_count": 1,
   "metadata": {},
   "outputs": [],
   "source": [
    "import os\n",
    "import pandas as pd\n",
    "import pyspark\n",
    "import pyspark.ml as ML\n",
    "conf = pyspark.SparkConf().setMaster(\"local[*]\").setAppName(\"HMP\")\n",
    "sc = pyspark.SparkContext(conf = conf)\n",
    "spark=pyspark.sql.SparkSession(sc)"
   ]
  },
  {
   "cell_type": "code",
   "execution_count": 2,
   "metadata": {},
   "outputs": [
    {
     "name": "stdout",
     "output_type": "stream",
     "text": [
      "+---+---+---+--------+-----+--------------+------------------------+-----------------------+\n",
      "|  X|  Y|  Z|   Class|Label| One_Hot_Lanel|Input_Vector_Unprocessed|Input_Vector_Normalized|\n",
      "+---+---+---+--------+-----+--------------+------------------------+-----------------------+\n",
      "| 33| 36| 51|Eat_meat|  5.0|(13,[5],[1.0])|        [33.0,36.0,51.0]|      [0.275,0.3,0.425]|\n",
      "| 33| 36| 51|Eat_meat|  5.0|(13,[5],[1.0])|        [33.0,36.0,51.0]|      [0.275,0.3,0.425]|\n",
      "| 33| 35| 53|Eat_meat|  5.0|(13,[5],[1.0])|        [33.0,35.0,53.0]|   [0.27272727272727...|\n",
      "| 31| 37| 52|Eat_meat|  5.0|(13,[5],[1.0])|        [31.0,37.0,52.0]|   [0.25833333333333...|\n",
      "| 32| 36| 52|Eat_meat|  5.0|(13,[5],[1.0])|        [32.0,36.0,52.0]|   [0.26666666666666...|\n",
      "| 32| 36| 51|Eat_meat|  5.0|(13,[5],[1.0])|        [32.0,36.0,51.0]|   [0.26890756302521...|\n",
      "| 32| 36| 51|Eat_meat|  5.0|(13,[5],[1.0])|        [32.0,36.0,51.0]|   [0.26890756302521...|\n",
      "| 33| 36| 53|Eat_meat|  5.0|(13,[5],[1.0])|        [33.0,36.0,53.0]|   [0.27049180327868...|\n",
      "| 33| 35| 52|Eat_meat|  5.0|(13,[5],[1.0])|        [33.0,35.0,52.0]|   [0.275,0.29166666...|\n",
      "| 33| 36| 52|Eat_meat|  5.0|(13,[5],[1.0])|        [33.0,36.0,52.0]|   [0.27272727272727...|\n",
      "| 32| 35| 53|Eat_meat|  5.0|(13,[5],[1.0])|        [32.0,35.0,53.0]|   [0.26666666666666...|\n",
      "| 33| 36| 52|Eat_meat|  5.0|(13,[5],[1.0])|        [33.0,36.0,52.0]|   [0.27272727272727...|\n",
      "| 32| 38| 53|Eat_meat|  5.0|(13,[5],[1.0])|        [32.0,38.0,53.0]|   [0.26016260162601...|\n",
      "| 32| 37| 52|Eat_meat|  5.0|(13,[5],[1.0])|        [32.0,37.0,52.0]|   [0.26446280991735...|\n",
      "| 33| 35| 52|Eat_meat|  5.0|(13,[5],[1.0])|        [33.0,35.0,52.0]|   [0.275,0.29166666...|\n",
      "| 32| 36| 53|Eat_meat|  5.0|(13,[5],[1.0])|        [32.0,36.0,53.0]|   [0.26446280991735...|\n",
      "| 32| 36| 53|Eat_meat|  5.0|(13,[5],[1.0])|        [32.0,36.0,53.0]|   [0.26446280991735...|\n",
      "| 32| 36| 52|Eat_meat|  5.0|(13,[5],[1.0])|        [32.0,36.0,52.0]|   [0.26666666666666...|\n",
      "| 34| 36| 52|Eat_meat|  5.0|(13,[5],[1.0])|        [34.0,36.0,52.0]|   [0.27868852459016...|\n",
      "| 33| 36| 52|Eat_meat|  5.0|(13,[5],[1.0])|        [33.0,36.0,52.0]|   [0.27272727272727...|\n",
      "+---+---+---+--------+-----+--------------+------------------------+-----------------------+\n",
      "only showing top 20 rows\n",
      "\n"
     ]
    }
   ],
   "source": [
    "OriginalDataSet=spark.read.parquet(\"DataSet.parquet\")\n",
    "OriginalDataSet.show()"
   ]
  },
  {
   "cell_type": "markdown",
   "metadata": {},
   "source": [
    "As seen below, the relationship between X,Y,Z is not linear.\n",
    "\n",
    "Nonetheless, we will proceed to build a linear model that takes in X,Y and predicts Z, but givent the non-linear nature of the relations, we do not expect great performance from this model."
   ]
  },
  {
   "cell_type": "code",
   "execution_count": 3,
   "metadata": {},
   "outputs": [],
   "source": [
    "temp_pd=OriginalDataSet.sample(False,0.01).select(\"X Y Z\".split()).toPandas()\n",
    "from pandas.plotting import scatter_matrix\n",
    "stuff = scatter_matrix(temp_pd, alpha=0.7, figsize=(6, 6), diagonal='hist')"
   ]
  },
  {
   "cell_type": "code",
   "execution_count": 4,
   "metadata": {},
   "outputs": [],
   "source": [
    "Temp=ML.feature.VectorAssembler(inputCols=[\"X\",\"Y\"],outputCol=\"features\").transform(OriginalDataSet)\n",
    "Temp.createOrReplaceTempView(\"HMP\")\n",
    "LR_Data=spark.sql(\"\"\"\n",
    "SELECT features,Z as label\n",
    "from HMP\n",
    "\"\"\")"
   ]
  },
  {
   "cell_type": "code",
   "execution_count": 5,
   "metadata": {},
   "outputs": [],
   "source": [
    "LR_Model=ML.regression.LinearRegression().fit(LR_Data)"
   ]
  },
  {
   "cell_type": "code",
   "execution_count": 6,
   "metadata": {},
   "outputs": [
    {
     "name": "stdout",
     "output_type": "stream",
     "text": [
      "The value of R2 is 0.385\n"
     ]
    }
   ],
   "source": [
    "Evaluation=LR_Model.evaluate(LR_Data)\n",
    "print(\"The value of R2 is {}\".format(round(Evaluation.r2,3)))"
   ]
  },
  {
   "cell_type": "markdown",
   "metadata": {},
   "source": [
    "The poor performance is not surprising, as previously discussed."
   ]
  }
 ],
 "metadata": {
  "kernelspec": {
   "display_name": "Python 3",
   "language": "python",
   "name": "python3"
  },
  "language_info": {
   "codemirror_mode": {
    "name": "ipython",
    "version": 3
   },
   "file_extension": ".py",
   "mimetype": "text/x-python",
   "name": "python",
   "nbconvert_exporter": "python",
   "pygments_lexer": "ipython3",
   "version": "3.6.8"
  }
 },
 "nbformat": 4,
 "nbformat_minor": 2
}
